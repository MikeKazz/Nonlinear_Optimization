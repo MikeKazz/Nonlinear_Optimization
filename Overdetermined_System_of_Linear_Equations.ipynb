{
  "nbformat": 4,
  "nbformat_minor": 0,
  "metadata": {
    "colab": {
      "name": "Overdetermined System of Linear Equations.ipynb",
      "provenance": [],
      "collapsed_sections": [],
      "authorship_tag": "ABX9TyPZcyF4onZ/WK/x/fLnRj63",
      "include_colab_link": true
    },
    "kernelspec": {
      "name": "python3",
      "display_name": "Python 3"
    },
    "language_info": {
      "name": "python"
    }
  },
  "cells": [
    {
      "cell_type": "markdown",
      "metadata": {
        "id": "view-in-github",
        "colab_type": "text"
      },
      "source": [
        "<a href=\"https://colab.research.google.com/github/mehrdadkazemi254/Nonlinear_Optimization/blob/main/Overdetermined_System_of_Linear_Equations.ipynb\" target=\"_parent\"><img src=\"https://colab.research.google.com/assets/colab-badge.svg\" alt=\"Open In Colab\"/></a>"
      ]
    },
    {
      "cell_type": "markdown",
      "metadata": {
        "id": "yNCc3J6tPaN_"
      },
      "source": [
        "**Chapter 1.**\n",
        "\n",
        "**Example 1.** Consider the following overdetermined system of linear equations Ax=b"
      ]
    },
    {
      "cell_type": "code",
      "metadata": {
        "colab": {
          "base_uri": "https://localhost:8080/"
        },
        "id": "1YO2q3-YI9_q",
        "outputId": "5ddd4ecb-eec0-4e56-86d8-54c46f7fae5e"
      },
      "source": [
        "import numpy as np\n",
        "\n",
        "A = np.array([[1,1],\n",
        "             [1,-1],\n",
        "             [1,2],\n",
        "             [2,1],\n",
        "             [3,1]])\n",
        "\n",
        "b = np.array([3,1,7,8,6])\n",
        "\n",
        "# we first solve it with Euclidean norm\n",
        "x, residuals, rank, s = np.linalg.lstsq(A,b, rcond= None)\n",
        "print(x)"
      ],
      "execution_count": 20,
      "outputs": [
        {
          "output_type": "stream",
          "name": "stdout",
          "text": [
            "[1.89873418 2.08860759]\n"
          ]
        }
      ]
    },
    {
      "cell_type": "markdown",
      "metadata": {
        "id": "246k16U6Gbn1"
      },
      "source": [
        "Visualization of the problem"
      ]
    },
    {
      "cell_type": "code",
      "metadata": {
        "id": "4MsNEjBsMMwh",
        "colab": {
          "base_uri": "https://localhost:8080/",
          "height": 282
        },
        "outputId": "5ad1ea3a-baa4-4341-d9ca-718340d641b9"
      },
      "source": [
        "import matplotlib.pyplot as plt\n",
        "\n",
        "X = np.linspace(0,5.0,4)\n",
        "y1 = 3-X\n",
        "y2 = X-1\n",
        "y3 = 0.5*(7-X)\n",
        "y4 = 8-2*X\n",
        "y5 = 6-3*X\n",
        "\n",
        "plt.plot(X,y1)\n",
        "plt.plot(X,y2)\n",
        "plt.plot(X,y3)\n",
        "plt.plot(X,y4)\n",
        "plt.plot(X,y5)\n",
        "\n",
        "plt.plot(x[0],x[1],'ro')"
      ],
      "execution_count": 23,
      "outputs": [
        {
          "output_type": "execute_result",
          "data": {
            "text/plain": [
              "[<matplotlib.lines.Line2D at 0x7f6c9c86da50>]"
            ]
          },
          "metadata": {},
          "execution_count": 23
        },
        {
          "output_type": "display_data",
          "data": {
            "image/png": "[encoded data removed]",
            "text/plain": [
              "<Figure size 432x288 with 1 Axes>"
            ]
          },
          "metadata": {
            "needs_background": "light"
          }
        }
      ]
    }
  ]
}